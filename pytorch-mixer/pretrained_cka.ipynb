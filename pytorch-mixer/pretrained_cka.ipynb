{
 "cells": [
  {
   "cell_type": "code",
   "execution_count": null,
   "metadata": {},
   "outputs": [],
   "source": [
    "from mixer.models.modeling import MlpMixer, CONFIGS\n",
    "import numpy as np\n",
    "import seaborn as sns\n",
    "import matplotlib.pyplot as plt\n",
    "from mixer.utils.data_utils import get_loader\n",
    "from CKA_Google import cka, gram_rbf, gram_linear"
   ]
  },
  {
   "cell_type": "code",
   "execution_count": null,
   "metadata": {},
   "outputs": [],
   "source": [
    "mixer = MlpMixer(CONFIGS['Mixer-B_16'])\n",
    "mixer.load_from(np.load(\"mixer/checkpoint/Mixer-B_16.npz\"))"
   ]
  },
  {
   "cell_type": "code",
   "execution_count": 15,
   "metadata": {},
   "outputs": [
    {
     "ename": "",
     "evalue": "",
     "output_type": "error",
     "traceback": [
      "\u001b[1;31mCanceled future for execute_request message before replies were done"
     ]
    },
    {
     "ename": "",
     "evalue": "",
     "output_type": "error",
     "traceback": [
      "The Kernel crashed while executing code in the the current cell or a previous cell. Please review the code in the cell(s) to identify a possible cause of the failure. Click <a href='https://aka.ms/vscodeJupyterKernelCrash'>here</a> for more info. View Jupyter <a href='command:jupyter.viewOutput'>log</a> for further details."
     ]
    }
   ],
   "source": [
    "mixer = MlpMixer(CONFIGS['Mixer-L_16'])\n",
    "mixer.load_from(np.load(\"mixer/checkpoint/Mixer-L_16.npz\"))"
   ]
  },
  {
   "cell_type": "code",
   "execution_count": null,
   "metadata": {},
   "outputs": [],
   "source": [
    "class Args:\n",
    "    pass\n",
    "\n",
    "args = Args()\n",
    "args.local_rank = -1\n",
    "args.img_size = 224\n",
    "args.train_batch_size = 16\n",
    "args.eval_batch_size = 16"
   ]
  },
  {
   "cell_type": "code",
   "execution_count": null,
   "metadata": {},
   "outputs": [],
   "source": [
    "train_loader, test_loader = get_loader(args)"
   ]
  },
  {
   "cell_type": "code",
   "execution_count": null,
   "metadata": {},
   "outputs": [],
   "source": [
    "#https://discuss.pytorch.org/t/how-can-i-extract-intermediate-layer-output-from-loaded-cnn-model/77301/3\n",
    "activation = {}\n",
    "def get_activation(name):\n",
    "    def hook(model, input, output):\n",
    "        activation[name] = output.detach()\n",
    "    return hook\n",
    "\n",
    "for i, layer in enumerate(mixer.layer):\n",
    "    layer.register_forward_hook(get_activation(i))\n",
    "\n",
    "# print(next(iter(train_loader)))\n",
    "output = mixer(next(iter(train_loader))[0])\n",
    "# activation"
   ]
  },
  {
   "cell_type": "code",
   "execution_count": null,
   "metadata": {},
   "outputs": [],
   "source": [
    "def cka_rbf(a, b, sigma=1):\n",
    "    return cka(\n",
    "        gram_rbf(a.numpy(), sigma),\n",
    "        gram_rbf(b.numpy(), sigma)\n",
    "    )\n",
    "\n",
    "\n",
    "def cka_linear(a, b, sigma=1):\n",
    "    return cka(\n",
    "        gram_linear(a.numpy(), sigma),\n",
    "        gram_linear(b.numpy(), sigma)\n",
    "    )\n",
    "\n",
    "\n",
    "def compute_heatmap(mixer, activations, cka_func=cka_rbf):\n",
    "    num_layers = len(mixer.layer)\n",
    "\n",
    "    mean_activations = []\n",
    "    for i in range(num_layers):\n",
    "        mean_activation = activations[i].mean(axis=0)\n",
    "        mean_activations.append(mean_activation)\n",
    "    \n",
    "    heatmap = np.zeros((num_layers, num_layers))\n",
    "    for i in range(num_layers):\n",
    "        for j in range(num_layers):\n",
    "            heatmap[i][j] = cka_func(mean_activations[i], mean_activations[j])\n",
    "    return heatmap\n",
    "\n",
    "\n",
    "def display_heatmap(heatmap):\n",
    "    sns.set()\n",
    "    ax = sns.heatmap(heatmap, vmin=0, vmax=1)\n",
    "    ax.invert_yaxis()\n",
    "    plt.show()"
   ]
  },
  {
   "cell_type": "code",
   "execution_count": null,
   "metadata": {},
   "outputs": [],
   "source": [
    "heatmap = compute_heatmap(mixer, activation)\n",
    "display_heatmap(heatmap)"
   ]
  }
 ],
 "metadata": {
  "kernelspec": {
   "display_name": "Python 3.10.6 64-bit",
   "language": "python",
   "name": "python3"
  },
  "language_info": {
   "codemirror_mode": {
    "name": "ipython",
    "version": 3
   },
   "file_extension": ".py",
   "mimetype": "text/x-python",
   "name": "python",
   "nbconvert_exporter": "python",
   "pygments_lexer": "ipython3",
   "version": "3.10.6"
  },
  "orig_nbformat": 4,
  "vscode": {
   "interpreter": {
    "hash": "916dbcbb3f70747c44a77c7bcd40155683ae19c65e1c03b4aa3499c5328201f1"
   }
  }
 },
 "nbformat": 4,
 "nbformat_minor": 2
}
