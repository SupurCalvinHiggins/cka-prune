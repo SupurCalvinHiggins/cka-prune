{
 "cells": [
  {
   "cell_type": "code",
   "execution_count": 13,
   "metadata": {},
   "outputs": [],
   "source": [
    "from mixer.models.modeling import MlpMixer, CONFIGS\n",
    "import numpy as np\n",
    "from cka_heatmap import compute_heatmap, display_heatmap, cka_linear\n",
    "from data_loaders import get_imagenet_test_loader, get_cifar10_val_loader"
   ]
  },
  {
   "cell_type": "code",
   "execution_count": 14,
   "metadata": {},
   "outputs": [],
   "source": [
    "def load_mixer(config, path):\n",
    "    mixer = MlpMixer(config, num_classes=1000 if '21k' not in path else 21843)\n",
    "    mixer.load_from(np.load(path))\n",
    "    return mixer"
   ]
  },
  {
   "cell_type": "code",
   "execution_count": 15,
   "metadata": {},
   "outputs": [],
   "source": [
    "def get_activation_hook(act, idx):\n",
    "    def hook(model, input, output):\n",
    "        act[idx] = output.detach().numpy()\n",
    "    return hook\n",
    "\n",
    "\n",
    "def add_hooks(mixer):\n",
    "    act = [None for _ in mixer.layer]\n",
    "    for i, layer in enumerate(mixer.layer):\n",
    "        layer.register_forward_hook(get_activation_hook(act, i))\n",
    "    return act\n",
    "\n",
    "\n",
    "def get_activations(mixer, loader):\n",
    "    act = add_hooks(mixer)\n",
    "    _ = mixer(next(iter(loader))[0])\n",
    "    return act"
   ]
  },
  {
   "cell_type": "code",
   "execution_count": 19,
   "metadata": {},
   "outputs": [],
   "source": [
    "def mixer_heatmap(mixer):\n",
    "    loader = get_cifar10_val_loader(1)\n",
    "    act = get_activations(mixer, loader)\n",
    "    act = [x.reshape(x.shape[0], np.prod(x.shape[1:])) for x in act]\n",
    "    print(act[0].shape)\n",
    "    heatmap = compute_heatmap(act, act)\n",
    "    display_heatmap(heatmap)"
   ]
  },
  {
   "cell_type": "code",
   "execution_count": 17,
   "metadata": {},
   "outputs": [],
   "source": [
    "mixers = [\n",
    "    (CONFIGS['Mixer-B_16'], \"mixer/checkpoint/gsam/Mixer-B_16.npz\"),\n",
    "    (CONFIGS['Mixer-B_32'], \"mixer/checkpoint/gsam/Mixer-B_32.npz\"),\n",
    "    (CONFIGS['Mixer-S_8'], \"mixer/checkpoint/gsam/Mixer-S_8.npz\"),\n",
    "    (CONFIGS['Mixer-S_16'], \"mixer/checkpoint/gsam/Mixer-S_16.npz\"),\n",
    "    (CONFIGS['Mixer-S_32'], \"mixer/checkpoint/gsam/Mixer-S_32.npz\"),\n",
    "    \n",
    "    (CONFIGS['Mixer-B_16'], \"mixer/checkpoint/imagenet1k/Mixer-B_16.npz\"),\n",
    "    (CONFIGS['Mixer-L_16'], \"mixer/checkpoint/imagenet1k/Mixer-L_16.npz\"),\n",
    "\n",
    "    (CONFIGS['Mixer-B_16'], \"mixer/checkpoint/imagenet21k/Mixer-B_16.npz\"),\n",
    "    (CONFIGS['Mixer-L_16'], \"mixer/checkpoint/imagenet21k/Mixer-L_16.npz\"),\n",
    "\n",
    "    (CONFIGS['Mixer-B_16'], \"mixer/checkpoint/sam/Mixer-B_16.npz\"),\n",
    "    (CONFIGS['Mixer-B_32'], \"mixer/checkpoint/sam/Mixer-B_32.npz\"),\n",
    "]"
   ]
  },
  {
   "cell_type": "code",
   "execution_count": 20,
   "metadata": {},
   "outputs": [
    {
     "name": "stdout",
     "output_type": "stream",
     "text": [
      "MODEL: mixer/checkpoint/Mixer-B_16.npz\n",
      "Files already downloaded and verified\n",
      "(1, 150528)\n"
     ]
    },
    {
     "name": "stderr",
     "output_type": "stream",
     "text": [
      "/home/calvin/Documents/URI/CSC561/csc561-final/pytorch-mixer/CKA_Google.py:31: RuntimeWarning: invalid value encountered in divide\n",
      "  return np.exp(-sq_distances / (2 * threshold ** 2 * sq_median_distance))\n"
     ]
    },
    {
     "data": {
      "image/png": "[encoded data removed]",
      "text/plain": [
       "<Figure size 432x288 with 2 Axes>"
      ]
     },
     "metadata": {},
     "output_type": "display_data"
    }
   ],
   "source": [
    "for config, path in [(CONFIGS['Mixer-B_16'], \"mixer/checkpoint/Mixer-B_16.npz\")]:\n",
    "    print(f\"MODEL: {path}\")\n",
    "    mixer = load_mixer(config, path)\n",
    "    mixer_heatmap(mixer)\n",
    "    del mixer"
   ]
  }
 ],
 "metadata": {
  "kernelspec": {
   "display_name": "Python 3.10.6 64-bit",
   "language": "python",
   "name": "python3"
  },
  "language_info": {
   "codemirror_mode": {
    "name": "ipython",
    "version": 3
   },
   "file_extension": ".py",
   "mimetype": "text/x-python",
   "name": "python",
   "nbconvert_exporter": "python",
   "pygments_lexer": "ipython3",
   "version": "3.10.6"
  },
  "orig_nbformat": 4,
  "vscode": {
   "interpreter": {
    "hash": "916dbcbb3f70747c44a77c7bcd40155683ae19c65e1c03b4aa3499c5328201f1"
   }
  }
 },
 "nbformat": 4,
 "nbformat_minor": 2
}
