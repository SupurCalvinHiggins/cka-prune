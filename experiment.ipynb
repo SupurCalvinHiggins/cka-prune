{
 "cells": [
  {
   "cell_type": "code",
   "execution_count": null,
   "metadata": {},
   "outputs": [],
   "source": [
    "import torch\n",
    "from torch import nn\n",
    "import torch.nn.utils.prune as prune\n",
    "from lenet import LeNet, get_activations\n",
    "from heatmap import compute_heatmap, display_heatmap, cka_linear\n",
    "from loaders import get_mnist_loaders"
   ]
  },
  {
   "cell_type": "code",
   "execution_count": null,
   "metadata": {},
   "outputs": [],
   "source": [
    "device = torch.device(\"cuda:0\" if torch.cuda.is_available() else \"cpu\")"
   ]
  },
  {
   "cell_type": "code",
   "execution_count": null,
   "metadata": {},
   "outputs": [],
   "source": [
    "def compute_acc(model, loader):\n",
    "    model.eval()\n",
    "    correct = 0\n",
    "    for _, (batch_x, batch_y) in enumerate(loader):\n",
    "        batch_x, batch_y = batch_x.to(device), batch_y.to(device)\n",
    "        pred_y = torch.argmax(model(batch_x), axis=-1)\n",
    "        correct += torch.sum(torch.eq(pred_y, batch_y))\n",
    "    return (correct / len(loader.dataset)).item()\n",
    "\n",
    "\n",
    "def train_model(model, epochs: int = 20, batch_size: int = 60): # TODO should be 20\n",
    "    optimizer = torch.optim.Adam(model.parameters(), lr=0.0012)\n",
    "    criterion = nn.CrossEntropyLoss()\n",
    "    train_loader, test_loader = get_mnist_loaders(batch_size)\n",
    "\n",
    "    for epoch in range(1, epochs + 1):\n",
    "        train_epoch_loss = 0\n",
    "\n",
    "        model.train()\n",
    "        for _, (batch_x, batch_y) in enumerate(train_loader):\n",
    "            batch_x, batch_y = batch_x.to(device), batch_y.to(device)\n",
    "            optimizer.zero_grad()\n",
    "            pred_y = model(batch_x)\n",
    "            loss = criterion(pred_y, batch_y)\n",
    "            loss.backward()\n",
    "            optimizer.step()\n",
    "            train_epoch_loss += loss.item() * batch_size\n",
    "\n",
    "        train_epoch_loss /= len(train_loader.dataset)\n",
    "        val_acc = compute_acc(model, test_loader)\n",
    "        print(f\"Epoch {epoch}/{epochs}: tr_loss = {train_epoch_loss}, val_acc = {val_acc}\")"
   ]
  },
  {
   "cell_type": "code",
   "execution_count": null,
   "metadata": {},
   "outputs": [],
   "source": [
    "def find_best_cka_prune(model, module, act, data):\n",
    "    neurons = module.weight.shape[0]\n",
    "    cka_and_neuron = []\n",
    "\n",
    "    # Attempt to prune each neuron\n",
    "    for neuron in range(neurons):\n",
    "\n",
    "        # Save the old weight and only attempt prune if it hasn't already been pruned.\n",
    "        neuron_weight = torch.clone(module.weight[neuron])\n",
    "        if torch.count_nonzero(neuron_weight) == 0:\n",
    "            continue\n",
    "        \n",
    "        # Prune and restore the neuron. See what the new activations are.\n",
    "        module.weight[neuron] = 0\n",
    "        pruned_act = get_activations(model, data)\n",
    "        module.weight[neuron] = neuron_weight\n",
    "\n",
    "        # Compute the CKA between the original activations and the new activations.\n",
    "        cka = cka_linear(act[1], pruned_act[1])\n",
    "        cka_and_neuron.append((cka, neuron))\n",
    "    \n",
    "    # Return the neuron that causes the least amount of change when pruned.\n",
    "    cka, neuron = max(cka_and_neuron)\n",
    "    return cka, neuron\n",
    "\n",
    "\n",
    "def cka_prune(model, module, data):\n",
    "    model.eval()\n",
    "    with torch.no_grad():\n",
    "        org_weight = torch.clone(module.weight)\n",
    "        act = get_activations(model, data)\n",
    "        neurons = module.weight.shape[0]\n",
    "\n",
    "        result = {\"cka\": [], \"val_acc\": [], \"pruned\": []}\n",
    "        for i in range(neurons): #TODO should be neurons\n",
    "            cka, neuron = find_best_cka_prune(model, module, act, data)\n",
    "            module.weight[neuron] = 0\n",
    "            _, val_loader = get_mnist_loaders(60)\n",
    "            val_acc = compute_acc(model, val_loader)\n",
    "            \n",
    "            result[\"cka\"].append(cka)\n",
    "            result[\"pruned\"].append(neuron)\n",
    "            result[\"val_acc\"].append(val_acc)\n",
    "            print(f\"Pruned neuron {neuron} with CKA = {cka}, val_acc = {val_acc} and p = {(i + 1) / neurons}\")\n",
    "        \n",
    "        module.weight[:, :] = org_weight\n",
    "    return result"
   ]
  },
  {
   "cell_type": "code",
   "execution_count": null,
   "metadata": {},
   "outputs": [],
   "source": [
    "def l1_prune(model, _, data):\n",
    "    model.eval()\n",
    "    torch.save(model.state_dict(), \"tmp.model\")\n",
    "    with torch.no_grad():\n",
    "        act = get_activations(model, data)\n",
    "        neurons = model.fc1.weight.shape[0]\n",
    "\n",
    "        neuron_order = torch.argsort(torch.linalg.vector_norm(torch.clone(model.fc1.weight), ord=1, dim=-1))\n",
    "\n",
    "        result = []\n",
    "        for i in range(neurons): # TODO neurons\n",
    "            model = LeNet('0d', 0.5).to(device)\n",
    "            model.load_state_dict(torch.load(\"tmp.model\"))\n",
    "            prune.ln_structured(model.fc1, 'weight', amount=((i + 1) / neurons), n=1, dim=0)\n",
    "            pruned_act = get_activations(model, data)\n",
    "            _, val_loader = get_mnist_loaders(60)\n",
    "            val_acc = compute_acc(model, val_loader)\n",
    "            cka = cka_linear(act[1], pruned_act[1])\n",
    "            result.append((neuron_order[i].item(), cka, val_acc))\n",
    "            print(f\"Pruned with L1 norm with CKA = {cka}, val_acc = {val_acc} and p = {(i + 1) / neurons}\")\n",
    "    return result"
   ]
  },
  {
   "cell_type": "code",
   "execution_count": null,
   "metadata": {},
   "outputs": [],
   "source": [
    "import pickle as pkl\n",
    "results = []\n",
    "\n",
    "for i in range(30):\n",
    "    model = LeNet('0d', 0.5).to(device)\n",
    "    train_model(model)\n",
    "    torch.save(model.state_dict(), f\"models/lenet-0d-50-{i}.model\")\n",
    "    train_loader, _ = get_mnist_loaders(60)\n",
    "    data = next(iter(train_loader))[0].to(device)\n",
    "    cka_result = cka_prune(model, model.fc1, data)\n",
    "    model = LeNet('0d', 0.5).to(device)\n",
    "    model.load_state_dict(torch.load(f\"models/lenet-0d-50-{i}.model\"))\n",
    "    l1_result = l1_prune(model, model.fc1, data)\n",
    "    results.append((cka_result, l1_result))\n",
    "    print(results)\n",
    "    with open(\"output.pkl\", 'wb') as f:\n",
    "        pkl.dump(results, f)"
   ]
  }
 ],
 "metadata": {
  "kernelspec": {
   "display_name": "Python 3.10.6 64-bit",
   "language": "python",
   "name": "python3"
  },
  "language_info": {
   "codemirror_mode": {
    "name": "ipython",
    "version": 3
   },
   "file_extension": ".py",
   "mimetype": "text/x-python",
   "name": "python",
   "nbconvert_exporter": "python",
   "pygments_lexer": "ipython3",
   "version": "3.10.6"
  },
  "orig_nbformat": 4,
  "vscode": {
   "interpreter": {
    "hash": "916dbcbb3f70747c44a77c7bcd40155683ae19c65e1c03b4aa3499c5328201f1"
   }
  }
 },
 "nbformat": 4,
 "nbformat_minor": 2
}
