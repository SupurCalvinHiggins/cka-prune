{
 "cells": [
  {
   "cell_type": "code",
   "execution_count": null,
   "metadata": {},
   "outputs": [],
   "source": [
    "import torch\n",
    "from torch import nn\n",
    "import torch.nn.utils.prune as prune\n",
    "from lenet import LeNet, get_activations\n",
    "from heatmap import compute_heatmap, display_heatmap, cka_linear\n",
    "from loaders import get_mnist_loaders\n",
    "from prune import cka_structured\n",
    "import pickle as pkl"
   ]
  },
  {
   "cell_type": "code",
   "execution_count": null,
   "metadata": {},
   "outputs": [],
   "source": [
    "device = torch.device(\"cuda:0\" if torch.cuda.is_available() else \"cpu\")"
   ]
  },
  {
   "cell_type": "code",
   "execution_count": null,
   "metadata": {},
   "outputs": [],
   "source": [
    "def compute_acc(model, loader):\n",
    "    model.eval()\n",
    "    correct = 0\n",
    "    for _, (batch_x, batch_y) in enumerate(loader):\n",
    "        batch_x, batch_y = batch_x.to(device), batch_y.to(device)\n",
    "        pred_y = torch.argmax(model(batch_x), axis=-1)\n",
    "        correct += torch.sum(torch.eq(pred_y, batch_y))\n",
    "    return (correct / len(loader.dataset)).item()\n",
    "\n",
    "\n",
    "def train_model(model, epochs: int = 1, batch_size: int = 60): # TODO should be 20\n",
    "    optimizer = torch.optim.Adam(model.parameters(), lr=0.0012)\n",
    "    criterion = nn.CrossEntropyLoss()\n",
    "    train_loader, test_loader = get_mnist_loaders(batch_size)\n",
    "\n",
    "    for epoch in range(1, epochs + 1):\n",
    "        train_epoch_loss = 0\n",
    "\n",
    "        model.train()\n",
    "        for _, (batch_x, batch_y) in enumerate(train_loader):\n",
    "            batch_x, batch_y = batch_x.to(device), batch_y.to(device)\n",
    "            optimizer.zero_grad()\n",
    "            pred_y = model(batch_x)\n",
    "            loss = criterion(pred_y, batch_y)\n",
    "            loss.backward()\n",
    "            optimizer.step()\n",
    "            train_epoch_loss += loss.item() * batch_size\n",
    "\n",
    "        train_epoch_loss /= len(train_loader.dataset)\n",
    "        val_acc = compute_acc(model, test_loader)\n",
    "        print(f\"Epoch {epoch}/{epochs}: tr_loss = {train_epoch_loss}, val_acc = {val_acc}\")"
   ]
  },
  {
   "cell_type": "code",
   "execution_count": null,
   "metadata": {},
   "outputs": [],
   "source": [
    "def cka_structured_all(model, module, data):\n",
    "    model.eval()\n",
    "    with torch.no_grad():\n",
    "        result = {\"cka\": [], \"val_acc\": [], \"pruned\": []}\n",
    "\n",
    "        org_weight = torch.clone(module.weight)\n",
    "        _, val_loader = get_mnist_loaders(60)\n",
    "\n",
    "        neurons = module.weight.shape[0]\n",
    "        for i in range(neurons):\n",
    "            module, pruned, ckas = cka_structured(\n",
    "                model, module, 'weight', data, n=1, verbose=True)\n",
    "            val_acc = compute_acc(model, val_loader)\n",
    "\n",
    "            result[\"cka\"].append(ckas[0])\n",
    "            result[\"pruned\"].append(pruned[0])\n",
    "            result[\"val_acc\"].append(val_acc)\n",
    "\n",
    "            print(f\"Pruned neuron {pruned[0]} with CKA = {ckas[0]}, val_acc = {val_acc} and p = {(i + 1) / neurons}\")\n",
    "        \n",
    "        module.weight[:, :] = org_weight\n",
    "\n",
    "    return result"
   ]
  },
  {
   "cell_type": "code",
   "execution_count": null,
   "metadata": {},
   "outputs": [],
   "source": [
    "def l1_structured_all(model, module, data):\n",
    "    model.eval()\n",
    "    with torch.no_grad():\n",
    "        result = {\"cka\": [], \"val_acc\": [], \"pruned\": []}\n",
    "\n",
    "        act = get_activations(model, data)\n",
    "        neuron_order = torch.argsort(torch.linalg.vector_norm(torch.clone(module.weight), ord=1, dim=-1))\n",
    "\n",
    "        neurons = module.weight.shape[0]\n",
    "        for i in range(neurons):\n",
    "            prune.ln_structured(module, 'weight', amount=1, n=1, dim=0)\n",
    "\n",
    "            pruned_act = get_activations(model, data)\n",
    "            _, val_loader = get_mnist_loaders(60)\n",
    "            val_acc = compute_acc(model, val_loader)\n",
    "            cka = cka_linear(act[module], pruned_act[module])\n",
    "\n",
    "            result[\"cka\"].append(cka)\n",
    "            result[\"pruned\"].append(neuron_order[i].item())\n",
    "            result[\"val_acc\"].append(val_acc)\n",
    "\n",
    "            print(f\"Pruned with L1 norm with CKA = {cka}, val_acc = {val_acc} and p = {(i + 1) / neurons}\")\n",
    "    return result"
   ]
  },
  {
   "cell_type": "code",
   "execution_count": null,
   "metadata": {},
   "outputs": [],
   "source": [
    "DROPOUT_RATE = 0.5\n",
    "DROPOUT_RATE_STR = str(int(DROPOUT_RATE * 100)).zfill(2)\n",
    "\n",
    "results = []\n",
    "for i in range(30):\n",
    "    \n",
    "    # Train model.\n",
    "    model = LeNet('0d', DROPOUT_RATE).to(device)\n",
    "    train_model(model)\n",
    "    model_path = f\"models/ex1/lenet-0d-{DROPOUT_RATE_STR}-{i}.model\"\n",
    "    torch.save(model.state_dict(), model_path)\n",
    "\n",
    "    # Prune with CKA.\n",
    "    train_loader, _ = get_mnist_loaders(60)\n",
    "    data = next(iter(train_loader))[0].to(device)\n",
    "    cka_result = cka_structured_all(model, model.fc1, data)\n",
    "\n",
    "    # Reload model.\n",
    "    model = LeNet('0d', DROPOUT_RATE).to(device)\n",
    "    model.load_state_dict(torch.load(model_path))\n",
    "\n",
    "    # Prune with L1.\n",
    "    l1_result = l1_structured_all(model, model.fc1, data)\n",
    "\n",
    "    # Update results.\n",
    "    results.append({\"cka_prune\": cka_result, \"l1_prune\": l1_result})\n",
    "    print(results)\n",
    "\n",
    "    # Save results\n",
    "    output_path = f\"output/ex1/output-0d-{DROPOUT_RATE_STR}.pkl\"\n",
    "    with open(output_path, 'wb') as f:\n",
    "        pkl.dump(results, f)"
   ]
  }
 ],
 "metadata": {
  "kernelspec": {
   "display_name": "Python 3.10.6 64-bit",
   "language": "python",
   "name": "python3"
  },
  "language_info": {
   "codemirror_mode": {
    "name": "ipython",
    "version": 3
   },
   "file_extension": ".py",
   "mimetype": "text/x-python",
   "name": "python",
   "nbconvert_exporter": "python",
   "pygments_lexer": "ipython3",
   "version": "3.10.6"
  },
  "orig_nbformat": 4,
  "vscode": {
   "interpreter": {
    "hash": "916dbcbb3f70747c44a77c7bcd40155683ae19c65e1c03b4aa3499c5328201f1"
   }
  }
 },
 "nbformat": 4,
 "nbformat_minor": 2
}
