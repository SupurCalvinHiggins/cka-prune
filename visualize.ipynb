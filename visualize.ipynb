{
 "cells": [
  {
   "cell_type": "code",
   "execution_count": 10,
   "metadata": {},
   "outputs": [],
   "source": [
    "import pickle as pkl\n",
    "\n",
    "with open(\"output-0d-50.pkl\", 'rb') as f:\n",
    "    data = pkl.load(f)"
   ]
  },
  {
   "cell_type": "code",
   "execution_count": null,
   "metadata": {},
   "outputs": [],
   "source": [
    "import matplotlib.pyplot as plt\n",
    "# https://towardsdatascience.com/neural-network-pruning-101-af816aaea61\n",
    "for cka, l1 in data:\n",
    "    cka_prune = [x[2] for x in cka]\n",
    "    l1_prune = [x[2] for x in l1]\n",
    "    x = list(range(1, 101))\n",
    "    plt.plot(x[:], cka_prune[:], label=\"cka\")\n",
    "    plt.plot(x[:], l1_prune[:], label=\"l1\")\n",
    "    # plt.plot(list(range(1, 101)), cka_prune, label=\"cka\")\n",
    "    # plt.plot(list(range(1, 101)), l1_prune, label=\"l1\")\n",
    "    plt.legend()\n",
    "    plt.show()"
   ]
  },
  {
   "cell_type": "code",
   "execution_count": null,
   "metadata": {},
   "outputs": [],
   "source": [
    "import matplotlib.pyplot as plt\n",
    "\n",
    "for cka, l1 in data:\n",
    "    cka_prune_cka = [x[1] for x in cka]\n",
    "    l1_prune_cka = [x[1] for x in l1]\n",
    "    cka_prune_acc = [x[2] for x in cka]\n",
    "    l1_prune_acc = [x[2] for x in l1]\n",
    "    x = list(range(1, 101))\n",
    "    plt.plot(x, cka_prune_cka, color='lightblue', label=\"cka_cka\")\n",
    "    plt.plot(x, l1_prune_cka, color='lightgreen', label=\"l1_cka\")\n",
    "    plt.plot(x, cka_prune_acc, color='blue', label=\"cka_acc\")\n",
    "    plt.plot(x, l1_prune_acc, color='green', label=\"l1_acc\")\n",
    "\n",
    "    for i, x in enumerate(cka_prune_cka):\n",
    "        if x < 0.995:\n",
    "            plt.axvline(x = i + 1, color='red')\n",
    "            break\n",
    "\n",
    "    highest_acc = max(cka_prune_acc)\n",
    "    for i, x in enumerate(cka_prune_acc):\n",
    "        if x < (highest_acc - 0.02):\n",
    "            plt.axvline(x = i + 1, color='purple')\n",
    "            break\n",
    "    # plt.plot(list(range(1, 101)), cka_prune, label=\"cka\")\n",
    "    # plt.plot(list(range(1, 101)), l1_prune, label=\"l1\")\n",
    "    plt.legend()\n",
    "    plt.show()"
   ]
  },
  {
   "cell_type": "code",
   "execution_count": 11,
   "metadata": {},
   "outputs": [
    {
     "data": {
      "image/png": "[encoded data removed]",
      "text/plain": [
       "<Figure size 432x288 with 1 Axes>"
      ]
     },
     "metadata": {
      "needs_background": "light"
     },
     "output_type": "display_data"
    }
   ],
   "source": [
    "import matplotlib.pyplot as plt\n",
    "import numpy as np\n",
    "# https://towardsdatascience.com/neural-network-pruning-101-af816aaea61\n",
    "\n",
    "cka_acc = np.array([[x[2] for x in cka] for cka, _ in data])\n",
    "l1_acc = np.array([[x[2] for x in l1] for _, l1 in data])\n",
    "\n",
    "cka_acc_mean = cka_acc.mean(axis=0)\n",
    "l1_acc_mean = l1_acc.mean(axis=0)\n",
    "\n",
    "cka_acc_std = cka_acc.std(axis=0)\n",
    "l1_acc_std = l1_acc.std(axis=0)\n",
    "\n",
    "x = list(range(1, 101))\n",
    "plt.plot(x, cka_acc_mean, label=\"cka\", color=\"green\")\n",
    "# plt.plot(x, cka_acc_mean + cka_acc_std, color=\"lightgreen\")\n",
    "# plt.plot(x, cka_acc_mean - cka_acc_std, color=\"lightgreen\")\n",
    "\n",
    "plt.plot(x, l1_acc_mean, label=\"l1\", color=\"blue\")\n",
    "# plt.plot(x, l1_acc_mean + l1_acc_std, color=\"lightblue\")\n",
    "# plt.plot(x, l1_acc_mean - l1_acc_std, color=\"lightblue\")\n",
    "plt.legend()\n",
    "plt.show()"
   ]
  }
 ],
 "metadata": {
  "kernelspec": {
   "display_name": "Python 3.10.6 64-bit",
   "language": "python",
   "name": "python3"
  },
  "language_info": {
   "codemirror_mode": {
    "name": "ipython",
    "version": 3
   },
   "file_extension": ".py",
   "mimetype": "text/x-python",
   "name": "python",
   "nbconvert_exporter": "python",
   "pygments_lexer": "ipython3",
   "version": "3.10.6"
  },
  "orig_nbformat": 4,
  "vscode": {
   "interpreter": {
    "hash": "916dbcbb3f70747c44a77c7bcd40155683ae19c65e1c03b4aa3499c5328201f1"
   }
  }
 },
 "nbformat": 4,
 "nbformat_minor": 2
}
